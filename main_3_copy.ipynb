{
 "cells": [
  {
   "cell_type": "code",
   "execution_count": null,
   "metadata": {},
   "outputs": [],
   "source": [
    "import lmfit\n",
    "import rampy as rp #Charles' libraries and functions\n",
    "\n",
    "import numpy as np\n",
    "import pandas as pd\n",
    "\n",
    "import matplotlib.pyplot as plt\n",
    "import plotly.express as px"
   ]
  },
  {
   "cell_type": "code",
   "execution_count": null,
   "metadata": {},
   "outputs": [],
   "source": [
    "# Load Data\n",
    "import os\n",
    "dir_name = 'Data/Thylakoids/qg27/'\n",
    "filename = 'qg27_thyl_XY09'\n",
    "full_file = os.path.join(dir_name,filename)\n",
    "data = pd.read_csv(full_file, delimiter = \"\\t\", names=[\"x\", \"y\"])"
   ]
  },
  {
   "cell_type": "code",
   "execution_count": null,
   "metadata": {},
   "outputs": [],
   "source": [
    "fig = px.line(data_frame=data, x=data['x'], y=data['y'])\n",
    "fig.show()"
   ]
  },
  {
   "cell_type": "code",
   "execution_count": null,
   "metadata": {},
   "outputs": [],
   "source": [
    "# Convert Dataframe data to numpy arrays for working with smoothening and correction\n",
    "data_array = data.to_numpy()\n",
    "x = data_array[:,0]\n",
    "y = data_array[:,1]"
   ]
  },
  {
   "cell_type": "code",
   "execution_count": null,
   "metadata": {},
   "outputs": [],
   "source": [
    "# Incase to smooth\n",
    "# y_smo = rp.smooth(data_array[:,0],data_array[:,1],method=\"savgol\",window_length=5,polyorder=3)\n",
    "# y_smo = rp.smooth(x,y,method=\"whittaker\",Lambda=10**0.5)"
   ]
  },
  {
   "cell_type": "code",
   "execution_count": null,
   "metadata": {},
   "outputs": [],
   "source": [
    "# Check the plots before and after smooth\n",
    "# plt.figure(figsize=(8,8))\n",
    "# plt.subplot(2,1,1)\n",
    "# plt.plot(x, y)\n",
    "# plt.title(\"Raw Data\")\n",
    "# plt.subplot(2,1,2)\n",
    "# plt.title(\"Smoothen Data\")\n",
    "# plt.plot(data_array[:,0], y_smo)"
   ]
  },
  {
   "cell_type": "code",
   "execution_count": null,
   "metadata": {},
   "outputs": [],
   "source": [
    "roi = np.array([(1347,1365),(1774,1800)])\n",
    "roi[1,1]"
   ]
  },
  {
   "cell_type": "code",
   "execution_count": null,
   "metadata": {},
   "outputs": [],
   "source": [
    "# Base line correction\n",
    "y_corr, y_base = rp.baseline(x,y,roi,'poly',polynomial_order=3)\n",
    "\n",
    "# Trim the data\n",
    "x_fit = x[np.where((x > roi[0,0])&(x < roi[1,1]))]\n",
    "y_fit = y_corr[np.where((x > roi[0,0])&(x < roi[1,1]))]"
   ]
  },
  {
   "cell_type": "code",
   "execution_count": null,
   "metadata": {},
   "outputs": [],
   "source": [
    "plt.figure()\n",
    "plt.plot(x_fit,y_fit)\n",
    "# plt.xlim([1347,1849])\n",
    "# plt.title(\"Trimmed Data non-normalized\")"
   ]
  },
  {
   "cell_type": "code",
   "execution_count": null,
   "metadata": {},
   "outputs": [],
   "source": [
    "y_fit_norm_intensity = rp.normalise(y_fit,x=x_fit,method=\"intensity\")\n",
    "plt.plot(x_fit,y_fit_norm_intensity)\n",
    "# plt.title(\"Trimmed Data normalized to max intensity\")"
   ]
  },
  {
   "cell_type": "code",
   "execution_count": null,
   "metadata": {},
   "outputs": [],
   "source": [
    "# create a new plot for showing the spectrum\n",
    "plt.figure(dpi=150)\n",
    "plt.subplot(1,2,1)\n",
    "inp = plt.plot(x,y,'k-',label='Original')\n",
    "corr = plt.plot(x,y_corr,'b-',label='Corrected') #we use the sample variable because it is not already normalized...\n",
    "bas = plt.plot(x,y_base,'r-',label='Baseline')\n",
    "plt.xlim(roi[0,0],roi[1,1])\n",
    "plt.ylim(-0.1,2)\n",
    "plt.xlabel(\"Wavelength, cm$^{-1}$\", fontsize = 14)\n",
    "plt.ylabel(\"Normalized intensity, a. u.\", fontsize = 14)\n",
    "plt.legend()\n",
    "plt.title('A) Baseline removal')\n",
    "\n",
    "plt.subplot(1,2,2)\n",
    "plt.plot(x_fit,y_fit_norm_intensity,'k.')\n",
    "plt.xlabel(\"Wavelength, cm$^{-1}$\", fontsize = 14)\n",
    "plt.title('B) signal to fit')\n",
    "#plt.tight_layout()\n",
    "# plt.suptitle('Figure 2', fontsize = 14,fontweight = 'bold')"
   ]
  },
  {
   "cell_type": "code",
   "execution_count": null,
   "metadata": {},
   "outputs": [],
   "source": [
    "arr = np.column_stack((x_fit,y_fit_norm_intensity))\n",
    "my_array = pd.DataFrame(arr, columns = ['x_fit','y_fit'])\n",
    "fig = px.line(data_frame=my_array, x=my_array['x_fit'], y=my_array['y_fit'])\n",
    "fig['layout']['xaxis']['autorange'] = \"reversed\"\n",
    "fig.show()"
   ]
  },
  {
   "cell_type": "code",
   "execution_count": null,
   "metadata": {},
   "outputs": [],
   "source": [
    "params = lmfit.Parameters()\n",
    "algo = 'leastsq'\n",
    "#               (Name,  Value,   Vary,   Min,     Max,       Expr)\n",
    "params.add_many(\n",
    "                # Protein\n",
    "                ('a1',   0.1,    True,    0,      0.2,     None), #Amplitude\n",
    "                ('f1',   1740,   True,   1735,    1755,    None), #position\n",
    "                ('l1',   5,      True,    1,      50,     None), # FWHM\n",
    "\n",
    "                ('a2',   0.04,    True,     0,      0.2,    None),   #Amplitude\n",
    "                ('f2',   1725,   True,   1720,     1745,     None),\n",
    "                ('l2',    5,    True,    1,       50,    None), \n",
    "                # Lipid\n",
    "                ('a3',   0.9,    True,    0,       1,        None),  # Amplitude\n",
    "                ('f3',   1654,   True,    1640,   1660,     None),\n",
    "                ('l3',   20,     True,     10,     40,      None),\n",
    "\n",
    "                ('a4',   0.9,    True,      0,      1,      None), # Amplitude\n",
    "                ('f4',   1636,   True,   1630,    1650,     None),\n",
    "                ('l4',   20,     True,     10,     80,      None), \n",
    "                \n",
    "                ####\n",
    "                ('a5',   0.3,    True,    0.0,     1,       None), # Amplitude\n",
    "                ('f5',   1547,   True,    1592,    1505,    None),\n",
    "                ('l5',   40,     True,     0,      100,     None),\n",
    "\n",
    "                ('a6',   0.7,    True,     0.0,       1,    None), # Amplitude\n",
    "                ('f6',   1453,   True,    1425,    1470,    None),\n",
    "                ('l6',   20,     True,     0,      50,      None),   \n",
    "                \n",
    "                ('a7',   0.07,    True,     0.0,    1,      None), # Amplitude\n",
    "                ('f7',   1378,   True,    1350,    1380,    None),\n",
    "                ('l7',   10,     True,     0,      10,      None),   \n",
    "                        \n",
    "               )\n",
    "params "
   ]
  },
  {
   "cell_type": "code",
   "execution_count": null,
   "metadata": {},
   "outputs": [],
   "source": [
    "\n",
    "from Modules.custom_funx import*"
   ]
  },
  {
   "cell_type": "code",
   "execution_count": null,
   "metadata": {},
   "outputs": [],
   "source": [
    "result = lmfit.minimize(residual, params, method = algo, args=(x_fit, y_fit_norm_intensity[:,0]))\n",
    "print(lmfit.fit_report(result))"
   ]
  },
  {
   "cell_type": "code",
   "execution_count": null,
   "metadata": {},
   "outputs": [],
   "source": [
    "yout, peak1,peak2,peak3,peak4,peak5,peak6, peak7 = residual(result.params,x_fit)\n",
    "res_stack = np.column_stack((yout,peak1,peak2,peak3,peak4,peak5,peak6,peak7))"
   ]
  },
  {
   "cell_type": "code",
   "execution_count": null,
   "metadata": {},
   "outputs": [],
   "source": [
    "# Create dataframe\n",
    "res_df = create_residuals_df(res_stack,y_fit_norm_intensity)\n",
    "# Create Plots\n",
    "ax = plot_fit(res_df,x_fit)\n",
    "r = cal_peak(peak1,peak2, peak3, peak4, x_fit)\n",
    "ax.title( \"Protein/lipid ratio: \"+str(round(r,2)))\n",
    "# pip install pyppt\n",
    "import pyppt as ppt\n",
    "ppt.add_figure('Left',delete_placeholders=True, replace=True, slide_no=2)\n",
    "ppt.set_title(filename, slide_no=1)\n",
    "ppt.title_to_front(slide_no=2)\n",
    "ax1 = plot_res(x_fit,result.residual)\n",
    "ax1.title('Reduced ChiSq - '+str(round(result.redchi,5)))\n",
    "ppt.add_figure('Right', delete_placeholders=True, replace=True)"
   ]
  },
  {
   "cell_type": "code",
   "execution_count": null,
   "metadata": {},
   "outputs": [],
   "source": [
    "res = y_fit_norm_intensity - yout\n",
    "np.savetxt(\"y_fit_norm_intensity.csv\",y_fit_norm_intensity, delimiter=\",\")\n",
    "np.savetxt(\"yout.csv\",yout, delimiter=\",\")\n",
    "np.savetxt(\"res.csv\",res, delimiter=\",\")\n",
    "np.savetxt(\"x_fit.csv\",x_fit, delimiter=\",\")"
   ]
  }
 ],
 "metadata": {
  "kernelspec": {
   "display_name": "Python 3.9.2 64-bit",
   "language": "python",
   "name": "python3"
  },
  "language_info": {
   "name": "python",
   "version": "3.9.2"
  },
  "orig_nbformat": 4,
  "vscode": {
   "interpreter": {
    "hash": "949777d72b0d2535278d3dc13498b2535136f6dfe0678499012e853ee9abcab1"
   }
  }
 },
 "nbformat": 4,
 "nbformat_minor": 2
}
